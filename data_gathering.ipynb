{
 "cells": [
  {
   "cell_type": "markdown",
   "id": "c9601239",
   "metadata": {},
   "source": [
    "# IMPORT LIBRARY"
   ]
  },
  {
   "cell_type": "code",
   "execution_count": 11,
   "id": "f5428c03",
   "metadata": {},
   "outputs": [],
   "source": [
    "import pandas as pd\n",
    "import os\n",
    "import string\n",
    "import datetime"
   ]
  },
  {
   "cell_type": "markdown",
   "id": "e339cf4a",
   "metadata": {},
   "source": [
    "# Data Introduction"
   ]
  },
  {
   "cell_type": "code",
   "execution_count": 12,
   "id": "6b8f5c80",
   "metadata": {},
   "outputs": [
    {
     "data": {
      "text/html": [
       "<div>\n",
       "<style scoped>\n",
       "    .dataframe tbody tr th:only-of-type {\n",
       "        vertical-align: middle;\n",
       "    }\n",
       "\n",
       "    .dataframe tbody tr th {\n",
       "        vertical-align: top;\n",
       "    }\n",
       "\n",
       "    .dataframe thead th {\n",
       "        text-align: right;\n",
       "    }\n",
       "</style>\n",
       "<table border=\"1\" class=\"dataframe\">\n",
       "  <thead>\n",
       "    <tr style=\"text-align: right;\">\n",
       "      <th></th>\n",
       "      <th>parameter_pencemar_kritis</th>\n",
       "      <th>kategori</th>\n",
       "      <th>periode_data</th>\n",
       "      <th>bulan</th>\n",
       "      <th>tanggal</th>\n",
       "      <th>stasiun</th>\n",
       "      <th>pm_sepuluh</th>\n",
       "      <th>pm_duakomalima</th>\n",
       "      <th>sulfur_dioksida</th>\n",
       "      <th>karbon_monoksida</th>\n",
       "      <th>ozon</th>\n",
       "      <th>nitrogen_dioksida</th>\n",
       "      <th>max</th>\n",
       "    </tr>\n",
       "  </thead>\n",
       "  <tbody>\n",
       "    <tr>\n",
       "      <th>0</th>\n",
       "      <td>PM25</td>\n",
       "      <td>SEDANG</td>\n",
       "      <td>202401</td>\n",
       "      <td>1</td>\n",
       "      <td>1</td>\n",
       "      <td>DKI5  Kebon Jeruk  Jakarta Barat</td>\n",
       "      <td>58.0</td>\n",
       "      <td>99.0</td>\n",
       "      <td>40.0</td>\n",
       "      <td>18.0</td>\n",
       "      <td>55.0</td>\n",
       "      <td>12.0</td>\n",
       "      <td>99</td>\n",
       "    </tr>\n",
       "    <tr>\n",
       "      <th>1</th>\n",
       "      <td>PM25</td>\n",
       "      <td>SEDANG</td>\n",
       "      <td>202401</td>\n",
       "      <td>1</td>\n",
       "      <td>2</td>\n",
       "      <td>DKI5  Kebon Jeruk  Jakarta Barat</td>\n",
       "      <td>40.0</td>\n",
       "      <td>68.0</td>\n",
       "      <td>40.0</td>\n",
       "      <td>9.0</td>\n",
       "      <td>65.0</td>\n",
       "      <td>11.0</td>\n",
       "      <td>68</td>\n",
       "    </tr>\n",
       "    <tr>\n",
       "      <th>2</th>\n",
       "      <td>O3</td>\n",
       "      <td>SEDANG</td>\n",
       "      <td>202401</td>\n",
       "      <td>1</td>\n",
       "      <td>3</td>\n",
       "      <td>DKI5  Kebon Jeruk  Jakarta Barat</td>\n",
       "      <td>32.0</td>\n",
       "      <td>54.0</td>\n",
       "      <td>39.0</td>\n",
       "      <td>7.0</td>\n",
       "      <td>63.0</td>\n",
       "      <td>10.0</td>\n",
       "      <td>63</td>\n",
       "    </tr>\n",
       "    <tr>\n",
       "      <th>3</th>\n",
       "      <td>PM25</td>\n",
       "      <td>SEDANG</td>\n",
       "      <td>202401</td>\n",
       "      <td>1</td>\n",
       "      <td>4</td>\n",
       "      <td>DKI5  Kebon Jeruk  Jakarta Barat</td>\n",
       "      <td>38.0</td>\n",
       "      <td>59.0</td>\n",
       "      <td>46.0</td>\n",
       "      <td>10.0</td>\n",
       "      <td>55.0</td>\n",
       "      <td>12.0</td>\n",
       "      <td>59</td>\n",
       "    </tr>\n",
       "    <tr>\n",
       "      <th>4</th>\n",
       "      <td>PM25</td>\n",
       "      <td>SEDANG</td>\n",
       "      <td>202401</td>\n",
       "      <td>1</td>\n",
       "      <td>5</td>\n",
       "      <td>DKI5  Kebon Jeruk  Jakarta Barat</td>\n",
       "      <td>30.0</td>\n",
       "      <td>52.0</td>\n",
       "      <td>37.0</td>\n",
       "      <td>15.0</td>\n",
       "      <td>48.0</td>\n",
       "      <td>15.0</td>\n",
       "      <td>52</td>\n",
       "    </tr>\n",
       "  </tbody>\n",
       "</table>\n",
       "</div>"
      ],
      "text/plain": [
       "  parameter_pencemar_kritis kategori  periode_data  bulan  tanggal  \\\n",
       "0                      PM25   SEDANG        202401      1        1   \n",
       "1                      PM25   SEDANG        202401      1        2   \n",
       "2                        O3   SEDANG        202401      1        3   \n",
       "3                      PM25   SEDANG        202401      1        4   \n",
       "4                      PM25   SEDANG        202401      1        5   \n",
       "\n",
       "                            stasiun  pm_sepuluh  pm_duakomalima  \\\n",
       "0  DKI5  Kebon Jeruk  Jakarta Barat        58.0            99.0   \n",
       "1  DKI5  Kebon Jeruk  Jakarta Barat        40.0            68.0   \n",
       "2  DKI5  Kebon Jeruk  Jakarta Barat        32.0            54.0   \n",
       "3  DKI5  Kebon Jeruk  Jakarta Barat        38.0            59.0   \n",
       "4  DKI5  Kebon Jeruk  Jakarta Barat        30.0            52.0   \n",
       "\n",
       "   sulfur_dioksida  karbon_monoksida  ozon  nitrogen_dioksida  max  \n",
       "0             40.0              18.0  55.0               12.0   99  \n",
       "1             40.0               9.0  65.0               11.0   68  \n",
       "2             39.0               7.0  63.0               10.0   63  \n",
       "3             46.0              10.0  55.0               12.0   59  \n",
       "4             37.0              15.0  48.0               15.0   52  "
      ]
     },
     "execution_count": 12,
     "metadata": {},
     "output_type": "execute_result"
    }
   ],
   "source": [
    "df = pd.read_csv('csv/Regresi A5.csv')\n",
    "df.head()"
   ]
  },
  {
   "cell_type": "markdown",
   "id": "bb9c2bb0",
   "metadata": {},
   "source": [
    "# Dropping all columns that not useful"
   ]
  },
  {
   "cell_type": "code",
   "execution_count": 13,
   "id": "85b208d0",
   "metadata": {},
   "outputs": [
    {
     "data": {
      "text/html": [
       "<div>\n",
       "<style scoped>\n",
       "    .dataframe tbody tr th:only-of-type {\n",
       "        vertical-align: middle;\n",
       "    }\n",
       "\n",
       "    .dataframe tbody tr th {\n",
       "        vertical-align: top;\n",
       "    }\n",
       "\n",
       "    .dataframe thead th {\n",
       "        text-align: right;\n",
       "    }\n",
       "</style>\n",
       "<table border=\"1\" class=\"dataframe\">\n",
       "  <thead>\n",
       "    <tr style=\"text-align: right;\">\n",
       "      <th></th>\n",
       "      <th>periode_data</th>\n",
       "      <th>bulan</th>\n",
       "      <th>tanggal</th>\n",
       "      <th>stasiun</th>\n",
       "      <th>karbon_monoksida</th>\n",
       "    </tr>\n",
       "  </thead>\n",
       "  <tbody>\n",
       "    <tr>\n",
       "      <th>0</th>\n",
       "      <td>202401</td>\n",
       "      <td>1</td>\n",
       "      <td>1</td>\n",
       "      <td>DKI5  Kebon Jeruk  Jakarta Barat</td>\n",
       "      <td>18.0</td>\n",
       "    </tr>\n",
       "    <tr>\n",
       "      <th>1</th>\n",
       "      <td>202401</td>\n",
       "      <td>1</td>\n",
       "      <td>2</td>\n",
       "      <td>DKI5  Kebon Jeruk  Jakarta Barat</td>\n",
       "      <td>9.0</td>\n",
       "    </tr>\n",
       "    <tr>\n",
       "      <th>2</th>\n",
       "      <td>202401</td>\n",
       "      <td>1</td>\n",
       "      <td>3</td>\n",
       "      <td>DKI5  Kebon Jeruk  Jakarta Barat</td>\n",
       "      <td>7.0</td>\n",
       "    </tr>\n",
       "    <tr>\n",
       "      <th>3</th>\n",
       "      <td>202401</td>\n",
       "      <td>1</td>\n",
       "      <td>4</td>\n",
       "      <td>DKI5  Kebon Jeruk  Jakarta Barat</td>\n",
       "      <td>10.0</td>\n",
       "    </tr>\n",
       "    <tr>\n",
       "      <th>4</th>\n",
       "      <td>202401</td>\n",
       "      <td>1</td>\n",
       "      <td>5</td>\n",
       "      <td>DKI5  Kebon Jeruk  Jakarta Barat</td>\n",
       "      <td>15.0</td>\n",
       "    </tr>\n",
       "  </tbody>\n",
       "</table>\n",
       "</div>"
      ],
      "text/plain": [
       "   periode_data  bulan  tanggal                           stasiun  \\\n",
       "0        202401      1        1  DKI5  Kebon Jeruk  Jakarta Barat   \n",
       "1        202401      1        2  DKI5  Kebon Jeruk  Jakarta Barat   \n",
       "2        202401      1        3  DKI5  Kebon Jeruk  Jakarta Barat   \n",
       "3        202401      1        4  DKI5  Kebon Jeruk  Jakarta Barat   \n",
       "4        202401      1        5  DKI5  Kebon Jeruk  Jakarta Barat   \n",
       "\n",
       "   karbon_monoksida  \n",
       "0              18.0  \n",
       "1               9.0  \n",
       "2               7.0  \n",
       "3              10.0  \n",
       "4              15.0  "
      ]
     },
     "execution_count": 13,
     "metadata": {},
     "output_type": "execute_result"
    }
   ],
   "source": [
    "df.drop(['parameter_pencemar_kritis', 'kategori', 'pm_sepuluh', 'pm_duakomalima', 'sulfur_dioksida', 'ozon', 'nitrogen_dioksida', 'max'], axis=1, inplace=True)\n",
    "df.head()"
   ]
  },
  {
   "cell_type": "code",
   "execution_count": 14,
   "id": "dda13ec7",
   "metadata": {},
   "outputs": [
    {
     "name": "stdout",
     "output_type": "stream",
     "text": [
      "<class 'pandas.core.frame.DataFrame'>\n",
      "RangeIndex: 547 entries, 0 to 546\n",
      "Data columns (total 5 columns):\n",
      " #   Column            Non-Null Count  Dtype  \n",
      "---  ------            --------------  -----  \n",
      " 0   periode_data      547 non-null    int64  \n",
      " 1   bulan             547 non-null    int64  \n",
      " 2   tanggal           547 non-null    int64  \n",
      " 3   stasiun           547 non-null    object \n",
      " 4   karbon_monoksida  545 non-null    float64\n",
      "dtypes: float64(1), int64(3), object(1)\n",
      "memory usage: 21.5+ KB\n"
     ]
    }
   ],
   "source": [
    "df.info()"
   ]
  },
  {
   "cell_type": "code",
   "execution_count": 15,
   "id": "0beca343",
   "metadata": {},
   "outputs": [
    {
     "data": {
      "text/html": [
       "<div>\n",
       "<style scoped>\n",
       "    .dataframe tbody tr th:only-of-type {\n",
       "        vertical-align: middle;\n",
       "    }\n",
       "\n",
       "    .dataframe tbody tr th {\n",
       "        vertical-align: top;\n",
       "    }\n",
       "\n",
       "    .dataframe thead th {\n",
       "        text-align: right;\n",
       "    }\n",
       "</style>\n",
       "<table border=\"1\" class=\"dataframe\">\n",
       "  <thead>\n",
       "    <tr style=\"text-align: right;\">\n",
       "      <th></th>\n",
       "      <th>periode_data</th>\n",
       "      <th>bulan</th>\n",
       "      <th>tanggal</th>\n",
       "      <th>stasiun</th>\n",
       "      <th>karbon_monoksida</th>\n",
       "    </tr>\n",
       "  </thead>\n",
       "  <tbody>\n",
       "    <tr>\n",
       "      <th>count</th>\n",
       "      <td>547.000000</td>\n",
       "      <td>547.000000</td>\n",
       "      <td>547.000000</td>\n",
       "      <td>547</td>\n",
       "      <td>545.000000</td>\n",
       "    </tr>\n",
       "    <tr>\n",
       "      <th>unique</th>\n",
       "      <td>NaN</td>\n",
       "      <td>NaN</td>\n",
       "      <td>NaN</td>\n",
       "      <td>2</td>\n",
       "      <td>NaN</td>\n",
       "    </tr>\n",
       "    <tr>\n",
       "      <th>top</th>\n",
       "      <td>NaN</td>\n",
       "      <td>NaN</td>\n",
       "      <td>NaN</td>\n",
       "      <td>DKI5  Kebon Jeruk  Jakarta Barat</td>\n",
       "      <td>NaN</td>\n",
       "    </tr>\n",
       "    <tr>\n",
       "      <th>freq</th>\n",
       "      <td>NaN</td>\n",
       "      <td>NaN</td>\n",
       "      <td>NaN</td>\n",
       "      <td>335</td>\n",
       "      <td>NaN</td>\n",
       "    </tr>\n",
       "    <tr>\n",
       "      <th>mean</th>\n",
       "      <td>202438.608775</td>\n",
       "      <td>5.519196</td>\n",
       "      <td>15.705667</td>\n",
       "      <td>NaN</td>\n",
       "      <td>15.921101</td>\n",
       "    </tr>\n",
       "    <tr>\n",
       "      <th>std</th>\n",
       "      <td>45.779098</td>\n",
       "      <td>3.310143</td>\n",
       "      <td>8.794730</td>\n",
       "      <td>NaN</td>\n",
       "      <td>7.186794</td>\n",
       "    </tr>\n",
       "    <tr>\n",
       "      <th>min</th>\n",
       "      <td>202401.000000</td>\n",
       "      <td>1.000000</td>\n",
       "      <td>1.000000</td>\n",
       "      <td>NaN</td>\n",
       "      <td>2.000000</td>\n",
       "    </tr>\n",
       "    <tr>\n",
       "      <th>25%</th>\n",
       "      <td>202405.000000</td>\n",
       "      <td>3.000000</td>\n",
       "      <td>8.000000</td>\n",
       "      <td>NaN</td>\n",
       "      <td>10.000000</td>\n",
       "    </tr>\n",
       "    <tr>\n",
       "      <th>50%</th>\n",
       "      <td>202409.000000</td>\n",
       "      <td>5.000000</td>\n",
       "      <td>16.000000</td>\n",
       "      <td>NaN</td>\n",
       "      <td>17.000000</td>\n",
       "    </tr>\n",
       "    <tr>\n",
       "      <th>75%</th>\n",
       "      <td>202502.000000</td>\n",
       "      <td>8.000000</td>\n",
       "      <td>23.000000</td>\n",
       "      <td>NaN</td>\n",
       "      <td>21.000000</td>\n",
       "    </tr>\n",
       "    <tr>\n",
       "      <th>max</th>\n",
       "      <td>202506.000000</td>\n",
       "      <td>12.000000</td>\n",
       "      <td>31.000000</td>\n",
       "      <td>NaN</td>\n",
       "      <td>57.000000</td>\n",
       "    </tr>\n",
       "  </tbody>\n",
       "</table>\n",
       "</div>"
      ],
      "text/plain": [
       "         periode_data       bulan     tanggal  \\\n",
       "count      547.000000  547.000000  547.000000   \n",
       "unique            NaN         NaN         NaN   \n",
       "top               NaN         NaN         NaN   \n",
       "freq              NaN         NaN         NaN   \n",
       "mean    202438.608775    5.519196   15.705667   \n",
       "std         45.779098    3.310143    8.794730   \n",
       "min     202401.000000    1.000000    1.000000   \n",
       "25%     202405.000000    3.000000    8.000000   \n",
       "50%     202409.000000    5.000000   16.000000   \n",
       "75%     202502.000000    8.000000   23.000000   \n",
       "max     202506.000000   12.000000   31.000000   \n",
       "\n",
       "                                 stasiun  karbon_monoksida  \n",
       "count                                547        545.000000  \n",
       "unique                                 2               NaN  \n",
       "top     DKI5  Kebon Jeruk  Jakarta Barat               NaN  \n",
       "freq                                 335               NaN  \n",
       "mean                                 NaN         15.921101  \n",
       "std                                  NaN          7.186794  \n",
       "min                                  NaN          2.000000  \n",
       "25%                                  NaN         10.000000  \n",
       "50%                                  NaN         17.000000  \n",
       "75%                                  NaN         21.000000  \n",
       "max                                  NaN         57.000000  "
      ]
     },
     "execution_count": 15,
     "metadata": {},
     "output_type": "execute_result"
    }
   ],
   "source": [
    "df.describe(include='all')"
   ]
  },
  {
   "cell_type": "code",
   "execution_count": 16,
   "id": "dc901036",
   "metadata": {},
   "outputs": [
    {
     "data": {
      "text/plain": [
       "periode_data        0\n",
       "bulan               0\n",
       "tanggal             0\n",
       "stasiun             0\n",
       "karbon_monoksida    2\n",
       "dtype: int64"
      ]
     },
     "execution_count": 16,
     "metadata": {},
     "output_type": "execute_result"
    }
   ],
   "source": [
    "df.isnull().sum()"
   ]
  },
  {
   "cell_type": "code",
   "execution_count": 17,
   "id": "1f57b0ed",
   "metadata": {},
   "outputs": [
    {
     "name": "stdout",
     "output_type": "stream",
     "text": [
      "Total Duplicate Data: 0\n"
     ]
    }
   ],
   "source": [
    "data_duplicated = df.duplicated().sum()\n",
    "print(\"Total Duplicate Data:\", data_duplicated)"
   ]
  },
  {
   "cell_type": "markdown",
   "id": "0ed34b29",
   "metadata": {},
   "source": [
    "# EDA"
   ]
  },
  {
   "cell_type": "markdown",
   "id": "de08d018",
   "metadata": {},
   "source": [
    "## Extract Year from periode_data"
   ]
  },
  {
   "cell_type": "code",
   "execution_count": 18,
   "id": "b1d57510",
   "metadata": {},
   "outputs": [
    {
     "name": "stdout",
     "output_type": "stream",
     "text": [
      "<class 'pandas.core.frame.DataFrame'>\n",
      "RangeIndex: 547 entries, 0 to 546\n",
      "Data columns (total 5 columns):\n",
      " #   Column            Non-Null Count  Dtype  \n",
      "---  ------            --------------  -----  \n",
      " 0   periode_data      547 non-null    object \n",
      " 1   bulan             547 non-null    int64  \n",
      " 2   tanggal           547 non-null    int64  \n",
      " 3   stasiun           547 non-null    object \n",
      " 4   karbon_monoksida  545 non-null    float64\n",
      "dtypes: float64(1), int64(2), object(2)\n",
      "memory usage: 21.5+ KB\n"
     ]
    }
   ],
   "source": [
    "df['periode_data'] = df['periode_data'].astype(str)\n",
    "df.info()"
   ]
  },
  {
   "cell_type": "code",
   "execution_count": 19,
   "id": "7175544a",
   "metadata": {},
   "outputs": [
    {
     "data": {
      "text/html": [
       "<div>\n",
       "<style scoped>\n",
       "    .dataframe tbody tr th:only-of-type {\n",
       "        vertical-align: middle;\n",
       "    }\n",
       "\n",
       "    .dataframe tbody tr th {\n",
       "        vertical-align: top;\n",
       "    }\n",
       "\n",
       "    .dataframe thead th {\n",
       "        text-align: right;\n",
       "    }\n",
       "</style>\n",
       "<table border=\"1\" class=\"dataframe\">\n",
       "  <thead>\n",
       "    <tr style=\"text-align: right;\">\n",
       "      <th></th>\n",
       "      <th>tahun</th>\n",
       "      <th>bulan</th>\n",
       "      <th>tanggal</th>\n",
       "      <th>stasiun</th>\n",
       "      <th>karbon_monoksida</th>\n",
       "    </tr>\n",
       "  </thead>\n",
       "  <tbody>\n",
       "    <tr>\n",
       "      <th>0</th>\n",
       "      <td>2024</td>\n",
       "      <td>1</td>\n",
       "      <td>1</td>\n",
       "      <td>DKI5  Kebon Jeruk  Jakarta Barat</td>\n",
       "      <td>18.0</td>\n",
       "    </tr>\n",
       "    <tr>\n",
       "      <th>1</th>\n",
       "      <td>2024</td>\n",
       "      <td>1</td>\n",
       "      <td>2</td>\n",
       "      <td>DKI5  Kebon Jeruk  Jakarta Barat</td>\n",
       "      <td>9.0</td>\n",
       "    </tr>\n",
       "    <tr>\n",
       "      <th>2</th>\n",
       "      <td>2024</td>\n",
       "      <td>1</td>\n",
       "      <td>3</td>\n",
       "      <td>DKI5  Kebon Jeruk  Jakarta Barat</td>\n",
       "      <td>7.0</td>\n",
       "    </tr>\n",
       "    <tr>\n",
       "      <th>3</th>\n",
       "      <td>2024</td>\n",
       "      <td>1</td>\n",
       "      <td>4</td>\n",
       "      <td>DKI5  Kebon Jeruk  Jakarta Barat</td>\n",
       "      <td>10.0</td>\n",
       "    </tr>\n",
       "    <tr>\n",
       "      <th>4</th>\n",
       "      <td>2024</td>\n",
       "      <td>1</td>\n",
       "      <td>5</td>\n",
       "      <td>DKI5  Kebon Jeruk  Jakarta Barat</td>\n",
       "      <td>15.0</td>\n",
       "    </tr>\n",
       "  </tbody>\n",
       "</table>\n",
       "</div>"
      ],
      "text/plain": [
       "  tahun  bulan  tanggal                           stasiun  karbon_monoksida\n",
       "0  2024      1        1  DKI5  Kebon Jeruk  Jakarta Barat              18.0\n",
       "1  2024      1        2  DKI5  Kebon Jeruk  Jakarta Barat               9.0\n",
       "2  2024      1        3  DKI5  Kebon Jeruk  Jakarta Barat               7.0\n",
       "3  2024      1        4  DKI5  Kebon Jeruk  Jakarta Barat              10.0\n",
       "4  2024      1        5  DKI5  Kebon Jeruk  Jakarta Barat              15.0"
      ]
     },
     "execution_count": 19,
     "metadata": {},
     "output_type": "execute_result"
    }
   ],
   "source": [
    "df['periode_data'] = df['periode_data'].str[:4]\n",
    "df = df.rename(columns={'periode_data': 'tahun'})\n",
    "df.head()"
   ]
  },
  {
   "cell_type": "markdown",
   "id": "73e14309",
   "metadata": {},
   "source": [
    "## Handling Missing Value"
   ]
  },
  {
   "cell_type": "code",
   "execution_count": 20,
   "id": "9b9c6c82",
   "metadata": {},
   "outputs": [
    {
     "data": {
      "text/plain": [
       "tahun               0\n",
       "bulan               0\n",
       "tanggal             0\n",
       "stasiun             0\n",
       "karbon_monoksida    2\n",
       "dtype: int64"
      ]
     },
     "execution_count": 20,
     "metadata": {},
     "output_type": "execute_result"
    }
   ],
   "source": [
    "df.isnull().sum()"
   ]
  },
  {
   "cell_type": "code",
   "execution_count": 21,
   "id": "59389b8c",
   "metadata": {},
   "outputs": [
    {
     "data": {
      "text/html": [
       "<div>\n",
       "<style scoped>\n",
       "    .dataframe tbody tr th:only-of-type {\n",
       "        vertical-align: middle;\n",
       "    }\n",
       "\n",
       "    .dataframe tbody tr th {\n",
       "        vertical-align: top;\n",
       "    }\n",
       "\n",
       "    .dataframe thead th {\n",
       "        text-align: right;\n",
       "    }\n",
       "</style>\n",
       "<table border=\"1\" class=\"dataframe\">\n",
       "  <thead>\n",
       "    <tr style=\"text-align: right;\">\n",
       "      <th></th>\n",
       "      <th>tahun</th>\n",
       "      <th>bulan</th>\n",
       "      <th>tanggal</th>\n",
       "      <th>stasiun</th>\n",
       "      <th>karbon_monoksida</th>\n",
       "    </tr>\n",
       "  </thead>\n",
       "  <tbody>\n",
       "    <tr>\n",
       "      <th>0</th>\n",
       "      <td>2024</td>\n",
       "      <td>1</td>\n",
       "      <td>1</td>\n",
       "      <td>DKI5  Kebon Jeruk  Jakarta Barat</td>\n",
       "      <td>18.0</td>\n",
       "    </tr>\n",
       "    <tr>\n",
       "      <th>1</th>\n",
       "      <td>2024</td>\n",
       "      <td>1</td>\n",
       "      <td>2</td>\n",
       "      <td>DKI5  Kebon Jeruk  Jakarta Barat</td>\n",
       "      <td>9.0</td>\n",
       "    </tr>\n",
       "    <tr>\n",
       "      <th>2</th>\n",
       "      <td>2024</td>\n",
       "      <td>1</td>\n",
       "      <td>3</td>\n",
       "      <td>DKI5  Kebon Jeruk  Jakarta Barat</td>\n",
       "      <td>7.0</td>\n",
       "    </tr>\n",
       "    <tr>\n",
       "      <th>3</th>\n",
       "      <td>2024</td>\n",
       "      <td>1</td>\n",
       "      <td>4</td>\n",
       "      <td>DKI5  Kebon Jeruk  Jakarta Barat</td>\n",
       "      <td>10.0</td>\n",
       "    </tr>\n",
       "    <tr>\n",
       "      <th>4</th>\n",
       "      <td>2024</td>\n",
       "      <td>1</td>\n",
       "      <td>5</td>\n",
       "      <td>DKI5  Kebon Jeruk  Jakarta Barat</td>\n",
       "      <td>15.0</td>\n",
       "    </tr>\n",
       "  </tbody>\n",
       "</table>\n",
       "</div>"
      ],
      "text/plain": [
       "  tahun  bulan  tanggal                           stasiun  karbon_monoksida\n",
       "0  2024      1        1  DKI5  Kebon Jeruk  Jakarta Barat              18.0\n",
       "1  2024      1        2  DKI5  Kebon Jeruk  Jakarta Barat               9.0\n",
       "2  2024      1        3  DKI5  Kebon Jeruk  Jakarta Barat               7.0\n",
       "3  2024      1        4  DKI5  Kebon Jeruk  Jakarta Barat              10.0\n",
       "4  2024      1        5  DKI5  Kebon Jeruk  Jakarta Barat              15.0"
      ]
     },
     "execution_count": 21,
     "metadata": {},
     "output_type": "execute_result"
    }
   ],
   "source": [
    "df.head()"
   ]
  },
  {
   "cell_type": "markdown",
   "id": "373de498",
   "metadata": {},
   "source": [
    "### Handling karbon_monoksida"
   ]
  },
  {
   "cell_type": "code",
   "execution_count": 22,
   "id": "c219a560",
   "metadata": {},
   "outputs": [
    {
     "name": "stderr",
     "output_type": "stream",
     "text": [
      "<ipython-input-22-c3136b48e99c>:1: FutureWarning: Series.fillna with 'method' is deprecated and will raise in a future version. Use obj.ffill() or obj.bfill() instead.\n",
      "  df['karbon_monoksida'] = df['karbon_monoksida'].fillna(method='ffill')\n"
     ]
    },
    {
     "data": {
      "text/html": [
       "<div>\n",
       "<style scoped>\n",
       "    .dataframe tbody tr th:only-of-type {\n",
       "        vertical-align: middle;\n",
       "    }\n",
       "\n",
       "    .dataframe tbody tr th {\n",
       "        vertical-align: top;\n",
       "    }\n",
       "\n",
       "    .dataframe thead th {\n",
       "        text-align: right;\n",
       "    }\n",
       "</style>\n",
       "<table border=\"1\" class=\"dataframe\">\n",
       "  <thead>\n",
       "    <tr style=\"text-align: right;\">\n",
       "      <th></th>\n",
       "      <th>tahun</th>\n",
       "      <th>bulan</th>\n",
       "      <th>tanggal</th>\n",
       "      <th>stasiun</th>\n",
       "      <th>karbon_monoksida</th>\n",
       "    </tr>\n",
       "  </thead>\n",
       "  <tbody>\n",
       "    <tr>\n",
       "      <th>0</th>\n",
       "      <td>2024</td>\n",
       "      <td>1</td>\n",
       "      <td>1</td>\n",
       "      <td>DKI5  Kebon Jeruk  Jakarta Barat</td>\n",
       "      <td>18.0</td>\n",
       "    </tr>\n",
       "    <tr>\n",
       "      <th>1</th>\n",
       "      <td>2024</td>\n",
       "      <td>1</td>\n",
       "      <td>2</td>\n",
       "      <td>DKI5  Kebon Jeruk  Jakarta Barat</td>\n",
       "      <td>9.0</td>\n",
       "    </tr>\n",
       "    <tr>\n",
       "      <th>2</th>\n",
       "      <td>2024</td>\n",
       "      <td>1</td>\n",
       "      <td>3</td>\n",
       "      <td>DKI5  Kebon Jeruk  Jakarta Barat</td>\n",
       "      <td>7.0</td>\n",
       "    </tr>\n",
       "    <tr>\n",
       "      <th>3</th>\n",
       "      <td>2024</td>\n",
       "      <td>1</td>\n",
       "      <td>4</td>\n",
       "      <td>DKI5  Kebon Jeruk  Jakarta Barat</td>\n",
       "      <td>10.0</td>\n",
       "    </tr>\n",
       "    <tr>\n",
       "      <th>4</th>\n",
       "      <td>2024</td>\n",
       "      <td>1</td>\n",
       "      <td>5</td>\n",
       "      <td>DKI5  Kebon Jeruk  Jakarta Barat</td>\n",
       "      <td>15.0</td>\n",
       "    </tr>\n",
       "  </tbody>\n",
       "</table>\n",
       "</div>"
      ],
      "text/plain": [
       "  tahun  bulan  tanggal                           stasiun  karbon_monoksida\n",
       "0  2024      1        1  DKI5  Kebon Jeruk  Jakarta Barat              18.0\n",
       "1  2024      1        2  DKI5  Kebon Jeruk  Jakarta Barat               9.0\n",
       "2  2024      1        3  DKI5  Kebon Jeruk  Jakarta Barat               7.0\n",
       "3  2024      1        4  DKI5  Kebon Jeruk  Jakarta Barat              10.0\n",
       "4  2024      1        5  DKI5  Kebon Jeruk  Jakarta Barat              15.0"
      ]
     },
     "execution_count": 22,
     "metadata": {},
     "output_type": "execute_result"
    }
   ],
   "source": [
    "df['karbon_monoksida'] = df['karbon_monoksida'].fillna(method='ffill')\n",
    "df.head()"
   ]
  },
  {
   "cell_type": "code",
   "execution_count": 23,
   "id": "879e55ec",
   "metadata": {},
   "outputs": [
    {
     "data": {
      "text/plain": [
       "tahun               0\n",
       "bulan               0\n",
       "tanggal             0\n",
       "stasiun             0\n",
       "karbon_monoksida    0\n",
       "dtype: int64"
      ]
     },
     "execution_count": 23,
     "metadata": {},
     "output_type": "execute_result"
    }
   ],
   "source": [
    "df.isnull().sum()"
   ]
  },
  {
   "cell_type": "code",
   "execution_count": 24,
   "id": "ae7fc5d3",
   "metadata": {},
   "outputs": [
    {
     "data": {
      "text/html": [
       "<div>\n",
       "<style scoped>\n",
       "    .dataframe tbody tr th:only-of-type {\n",
       "        vertical-align: middle;\n",
       "    }\n",
       "\n",
       "    .dataframe tbody tr th {\n",
       "        vertical-align: top;\n",
       "    }\n",
       "\n",
       "    .dataframe thead th {\n",
       "        text-align: right;\n",
       "    }\n",
       "</style>\n",
       "<table border=\"1\" class=\"dataframe\">\n",
       "  <thead>\n",
       "    <tr style=\"text-align: right;\">\n",
       "      <th></th>\n",
       "      <th>tahun</th>\n",
       "      <th>bulan</th>\n",
       "      <th>tanggal</th>\n",
       "      <th>stasiun</th>\n",
       "      <th>karbon_monoksida</th>\n",
       "    </tr>\n",
       "  </thead>\n",
       "  <tbody>\n",
       "    <tr>\n",
       "      <th>0</th>\n",
       "      <td>2024</td>\n",
       "      <td>1</td>\n",
       "      <td>1</td>\n",
       "      <td>DKI5  Kebon Jeruk  Jakarta Barat</td>\n",
       "      <td>18.0</td>\n",
       "    </tr>\n",
       "    <tr>\n",
       "      <th>1</th>\n",
       "      <td>2024</td>\n",
       "      <td>1</td>\n",
       "      <td>2</td>\n",
       "      <td>DKI5  Kebon Jeruk  Jakarta Barat</td>\n",
       "      <td>9.0</td>\n",
       "    </tr>\n",
       "    <tr>\n",
       "      <th>2</th>\n",
       "      <td>2024</td>\n",
       "      <td>1</td>\n",
       "      <td>3</td>\n",
       "      <td>DKI5  Kebon Jeruk  Jakarta Barat</td>\n",
       "      <td>7.0</td>\n",
       "    </tr>\n",
       "    <tr>\n",
       "      <th>3</th>\n",
       "      <td>2024</td>\n",
       "      <td>1</td>\n",
       "      <td>4</td>\n",
       "      <td>DKI5  Kebon Jeruk  Jakarta Barat</td>\n",
       "      <td>10.0</td>\n",
       "    </tr>\n",
       "    <tr>\n",
       "      <th>4</th>\n",
       "      <td>2024</td>\n",
       "      <td>1</td>\n",
       "      <td>5</td>\n",
       "      <td>DKI5  Kebon Jeruk  Jakarta Barat</td>\n",
       "      <td>15.0</td>\n",
       "    </tr>\n",
       "  </tbody>\n",
       "</table>\n",
       "</div>"
      ],
      "text/plain": [
       "  tahun  bulan  tanggal                           stasiun  karbon_monoksida\n",
       "0  2024      1        1  DKI5  Kebon Jeruk  Jakarta Barat              18.0\n",
       "1  2024      1        2  DKI5  Kebon Jeruk  Jakarta Barat               9.0\n",
       "2  2024      1        3  DKI5  Kebon Jeruk  Jakarta Barat               7.0\n",
       "3  2024      1        4  DKI5  Kebon Jeruk  Jakarta Barat              10.0\n",
       "4  2024      1        5  DKI5  Kebon Jeruk  Jakarta Barat              15.0"
      ]
     },
     "execution_count": 24,
     "metadata": {},
     "output_type": "execute_result"
    }
   ],
   "source": [
    "df.head()"
   ]
  },
  {
   "cell_type": "code",
   "execution_count": 25,
   "id": "0d9d04b8",
   "metadata": {},
   "outputs": [
    {
     "data": {
      "text/html": [
       "<div>\n",
       "<style scoped>\n",
       "    .dataframe tbody tr th:only-of-type {\n",
       "        vertical-align: middle;\n",
       "    }\n",
       "\n",
       "    .dataframe tbody tr th {\n",
       "        vertical-align: top;\n",
       "    }\n",
       "\n",
       "    .dataframe thead th {\n",
       "        text-align: right;\n",
       "    }\n",
       "</style>\n",
       "<table border=\"1\" class=\"dataframe\">\n",
       "  <thead>\n",
       "    <tr style=\"text-align: right;\">\n",
       "      <th></th>\n",
       "      <th>bulan</th>\n",
       "      <th>tanggal</th>\n",
       "      <th>stasiun</th>\n",
       "      <th>karbon_monoksida</th>\n",
       "    </tr>\n",
       "    <tr>\n",
       "      <th>tahun</th>\n",
       "      <th></th>\n",
       "      <th></th>\n",
       "      <th></th>\n",
       "      <th></th>\n",
       "    </tr>\n",
       "  </thead>\n",
       "  <tbody>\n",
       "    <tr>\n",
       "      <th>2024</th>\n",
       "      <td>366</td>\n",
       "      <td>366</td>\n",
       "      <td>366</td>\n",
       "      <td>366</td>\n",
       "    </tr>\n",
       "    <tr>\n",
       "      <th>2025</th>\n",
       "      <td>181</td>\n",
       "      <td>181</td>\n",
       "      <td>181</td>\n",
       "      <td>181</td>\n",
       "    </tr>\n",
       "  </tbody>\n",
       "</table>\n",
       "</div>"
      ],
      "text/plain": [
       "       bulan  tanggal  stasiun  karbon_monoksida\n",
       "tahun                                           \n",
       "2024     366      366      366               366\n",
       "2025     181      181      181               181"
      ]
     },
     "execution_count": 25,
     "metadata": {},
     "output_type": "execute_result"
    }
   ],
   "source": [
    "by_year= df.groupby('tahun').count()\n",
    "by_year"
   ]
  },
  {
   "cell_type": "markdown",
   "id": "c952dab0",
   "metadata": {},
   "source": [
    "# EXPORT AS FINAL DATASET"
   ]
  },
  {
   "cell_type": "code",
   "execution_count": 26,
   "id": "eef77806",
   "metadata": {},
   "outputs": [],
   "source": [
    "def save_to_csv(df, path: str):\n",
    "    try:\n",
    "        os.makedirs('csv', exist_ok=True)\n",
    "        file_path = os.path.join('csv', path)\n",
    "        df.to_csv(file_path, index=False)\n",
    "        print(f\"Data saved to {file_path}\")\n",
    "\n",
    "    except Exception as e:\n",
    "        print(f\"Failed to save CSV: {e}\")"
   ]
  },
  {
   "cell_type": "code",
   "execution_count": 27,
   "id": "d35f58ae",
   "metadata": {},
   "outputs": [
    {
     "name": "stdout",
     "output_type": "stream",
     "text": [
      "Data saved to csv\\Regresi A5_final.csv\n"
     ]
    }
   ],
   "source": [
    "file_name= 'Regresi A5_final.csv'\n",
    "save_to_csv(df, file_name)"
   ]
  },
  {
   "cell_type": "code",
   "execution_count": null,
   "id": "b8c1769e",
   "metadata": {},
   "outputs": [],
   "source": [
    "df = pd.read_csv('csv/Regresi A5_final.csv')\n",
    "percent = 0.8\n",
    "split_point = int(len(df) * percent)\n",
    "train = df[:split_point]\n",
    "test = df[split_point:]\n",
    "\n",
    "file_path_train = os.path.join('csv', f'data_train_{percent}.csv')\n",
    "file_path_test = os.path.join('csv', f'data_test_{percent}.csv')\n",
    "\n",
    "train.to_csv(file_path_train, index=False)\n",
    "test.to_csv(file_path_test, index=False)"
   ]
  },
  {
   "cell_type": "markdown",
   "id": "09d1d916",
   "metadata": {},
   "source": [
    "# Export ENV"
   ]
  },
  {
   "cell_type": "code",
   "execution_count": 141,
   "id": "8619983b",
   "metadata": {},
   "outputs": [],
   "source": [
    "!conda env export > environment.yml"
   ]
  }
 ],
 "metadata": {
  "kernelspec": {
   "display_name": "Python 3 (ipykernel)",
   "language": "python",
   "name": "python3"
  }
 },
 "nbformat": 4,
 "nbformat_minor": 5
}

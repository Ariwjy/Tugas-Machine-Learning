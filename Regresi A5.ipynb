{
 "cells": [
  {
   "cell_type": "markdown",
   "id": "403e1511",
   "metadata": {},
   "source": [
    "# IMPORT LIBRARY"
   ]
  },
  {
   "cell_type": "code",
   "execution_count": 4,
   "id": "a57a3df8",
   "metadata": {},
   "outputs": [],
   "source": [
    "# Data Manipulation and Graph\n",
    "import pandas as pd\n",
    "import matplotlib.pyplot as plt\n",
    "\n",
    "# Modelling\n",
    "from sklearn.model_selection import TimeSeriesSplit, GridSearchCV\n",
    "from sklearn.ensemble import AdaBoostRegressor\n",
    "from xgboost import XGBRegressor\n",
    "\n",
    "# Evaluation\n",
    "from sklearn.metrics import mean_absolute_error, root_mean_squared_error, mean_absolute_percentage_error, r2_score"
   ]
  },
  {
   "cell_type": "code",
   "execution_count": 6,
   "id": "1f85592b",
   "metadata": {},
   "outputs": [
    {
     "data": {
      "text/html": [
       "<div>\n",
       "<style scoped>\n",
       "    .dataframe tbody tr th:only-of-type {\n",
       "        vertical-align: middle;\n",
       "    }\n",
       "\n",
       "    .dataframe tbody tr th {\n",
       "        vertical-align: top;\n",
       "    }\n",
       "\n",
       "    .dataframe thead th {\n",
       "        text-align: right;\n",
       "    }\n",
       "</style>\n",
       "<table border=\"1\" class=\"dataframe\">\n",
       "  <thead>\n",
       "    <tr style=\"text-align: right;\">\n",
       "      <th></th>\n",
       "      <th>year</th>\n",
       "      <th>month</th>\n",
       "      <th>day</th>\n",
       "      <th>stasiun</th>\n",
       "      <th>pm10</th>\n",
       "      <th>pm25</th>\n",
       "      <th>sulfur_dioksida</th>\n",
       "      <th>karbon_monoksida</th>\n",
       "      <th>ozon</th>\n",
       "      <th>nitrogen_dioksida</th>\n",
       "    </tr>\n",
       "  </thead>\n",
       "  <tbody>\n",
       "    <tr>\n",
       "      <th>0</th>\n",
       "      <td>2024</td>\n",
       "      <td>1</td>\n",
       "      <td>1</td>\n",
       "      <td>DKI5 Kebon Jeruk Jakarta Barat</td>\n",
       "      <td>58.0</td>\n",
       "      <td>99.0</td>\n",
       "      <td>40.0</td>\n",
       "      <td>18.0</td>\n",
       "      <td>55.0</td>\n",
       "      <td>12.0</td>\n",
       "    </tr>\n",
       "    <tr>\n",
       "      <th>1</th>\n",
       "      <td>2024</td>\n",
       "      <td>1</td>\n",
       "      <td>2</td>\n",
       "      <td>DKI5 Kebon Jeruk Jakarta Barat</td>\n",
       "      <td>40.0</td>\n",
       "      <td>68.0</td>\n",
       "      <td>40.0</td>\n",
       "      <td>9.0</td>\n",
       "      <td>65.0</td>\n",
       "      <td>11.0</td>\n",
       "    </tr>\n",
       "    <tr>\n",
       "      <th>2</th>\n",
       "      <td>2024</td>\n",
       "      <td>1</td>\n",
       "      <td>3</td>\n",
       "      <td>DKI5 Kebon Jeruk Jakarta Barat</td>\n",
       "      <td>32.0</td>\n",
       "      <td>54.0</td>\n",
       "      <td>39.0</td>\n",
       "      <td>7.0</td>\n",
       "      <td>63.0</td>\n",
       "      <td>10.0</td>\n",
       "    </tr>\n",
       "    <tr>\n",
       "      <th>3</th>\n",
       "      <td>2024</td>\n",
       "      <td>1</td>\n",
       "      <td>4</td>\n",
       "      <td>DKI5 Kebon Jeruk Jakarta Barat</td>\n",
       "      <td>38.0</td>\n",
       "      <td>59.0</td>\n",
       "      <td>46.0</td>\n",
       "      <td>10.0</td>\n",
       "      <td>55.0</td>\n",
       "      <td>12.0</td>\n",
       "    </tr>\n",
       "    <tr>\n",
       "      <th>4</th>\n",
       "      <td>2024</td>\n",
       "      <td>1</td>\n",
       "      <td>5</td>\n",
       "      <td>DKI5 Kebon Jeruk Jakarta Barat</td>\n",
       "      <td>30.0</td>\n",
       "      <td>52.0</td>\n",
       "      <td>37.0</td>\n",
       "      <td>15.0</td>\n",
       "      <td>48.0</td>\n",
       "      <td>15.0</td>\n",
       "    </tr>\n",
       "    <tr>\n",
       "      <th>5</th>\n",
       "      <td>2024</td>\n",
       "      <td>1</td>\n",
       "      <td>6</td>\n",
       "      <td>DKI5 Kebon Jeruk Jakarta Barat</td>\n",
       "      <td>32.0</td>\n",
       "      <td>64.0</td>\n",
       "      <td>39.0</td>\n",
       "      <td>12.0</td>\n",
       "      <td>61.0</td>\n",
       "      <td>14.0</td>\n",
       "    </tr>\n",
       "    <tr>\n",
       "      <th>6</th>\n",
       "      <td>2024</td>\n",
       "      <td>1</td>\n",
       "      <td>7</td>\n",
       "      <td>DKI5 Kebon Jeruk Jakarta Barat</td>\n",
       "      <td>53.0</td>\n",
       "      <td>86.0</td>\n",
       "      <td>40.0</td>\n",
       "      <td>23.0</td>\n",
       "      <td>62.0</td>\n",
       "      <td>14.0</td>\n",
       "    </tr>\n",
       "    <tr>\n",
       "      <th>7</th>\n",
       "      <td>2024</td>\n",
       "      <td>1</td>\n",
       "      <td>8</td>\n",
       "      <td>DKI5 Kebon Jeruk Jakarta Barat</td>\n",
       "      <td>37.0</td>\n",
       "      <td>55.0</td>\n",
       "      <td>38.0</td>\n",
       "      <td>12.0</td>\n",
       "      <td>43.0</td>\n",
       "      <td>14.0</td>\n",
       "    </tr>\n",
       "    <tr>\n",
       "      <th>8</th>\n",
       "      <td>2024</td>\n",
       "      <td>1</td>\n",
       "      <td>9</td>\n",
       "      <td>DKI5 Kebon Jeruk Jakarta Barat</td>\n",
       "      <td>54.0</td>\n",
       "      <td>81.0</td>\n",
       "      <td>21.0</td>\n",
       "      <td>18.0</td>\n",
       "      <td>35.0</td>\n",
       "      <td>3.0</td>\n",
       "    </tr>\n",
       "    <tr>\n",
       "      <th>9</th>\n",
       "      <td>2024</td>\n",
       "      <td>1</td>\n",
       "      <td>10</td>\n",
       "      <td>DKI5 Kebon Jeruk Jakarta Barat</td>\n",
       "      <td>43.0</td>\n",
       "      <td>73.0</td>\n",
       "      <td>18.0</td>\n",
       "      <td>11.0</td>\n",
       "      <td>70.0</td>\n",
       "      <td>7.0</td>\n",
       "    </tr>\n",
       "  </tbody>\n",
       "</table>\n",
       "</div>"
      ],
      "text/plain": [
       "   year  month  day                         stasiun  pm10  pm25  \\\n",
       "0  2024      1    1  DKI5 Kebon Jeruk Jakarta Barat  58.0  99.0   \n",
       "1  2024      1    2  DKI5 Kebon Jeruk Jakarta Barat  40.0  68.0   \n",
       "2  2024      1    3  DKI5 Kebon Jeruk Jakarta Barat  32.0  54.0   \n",
       "3  2024      1    4  DKI5 Kebon Jeruk Jakarta Barat  38.0  59.0   \n",
       "4  2024      1    5  DKI5 Kebon Jeruk Jakarta Barat  30.0  52.0   \n",
       "5  2024      1    6  DKI5 Kebon Jeruk Jakarta Barat  32.0  64.0   \n",
       "6  2024      1    7  DKI5 Kebon Jeruk Jakarta Barat  53.0  86.0   \n",
       "7  2024      1    8  DKI5 Kebon Jeruk Jakarta Barat  37.0  55.0   \n",
       "8  2024      1    9  DKI5 Kebon Jeruk Jakarta Barat  54.0  81.0   \n",
       "9  2024      1   10  DKI5 Kebon Jeruk Jakarta Barat  43.0  73.0   \n",
       "\n",
       "   sulfur_dioksida  karbon_monoksida  ozon  nitrogen_dioksida  \n",
       "0             40.0              18.0  55.0               12.0  \n",
       "1             40.0               9.0  65.0               11.0  \n",
       "2             39.0               7.0  63.0               10.0  \n",
       "3             46.0              10.0  55.0               12.0  \n",
       "4             37.0              15.0  48.0               15.0  \n",
       "5             39.0              12.0  61.0               14.0  \n",
       "6             40.0              23.0  62.0               14.0  \n",
       "7             38.0              12.0  43.0               14.0  \n",
       "8             21.0              18.0  35.0                3.0  \n",
       "9             18.0              11.0  70.0                7.0  "
      ]
     },
     "execution_count": 6,
     "metadata": {},
     "output_type": "execute_result"
    }
   ],
   "source": [
    "df= pd.read_csv('Regresi A5_final.csv')\n",
    "df.head(10)"
   ]
  },
  {
   "cell_type": "markdown",
   "id": "85e4f5b1",
   "metadata": {},
   "source": [
    "# DATA SPLITTING"
   ]
  },
  {
   "cell_type": "markdown",
   "id": "eac7fc5b",
   "metadata": {},
   "source": [
    "## Scenario 1: 70/30"
   ]
  },
  {
   "cell_type": "code",
   "execution_count": 8,
   "id": "cad99871",
   "metadata": {},
   "outputs": [],
   "source": [
    "df_train70= pd.read_csv(\"csv/data_train_0.7.csv\")\n",
    "df_test70= pd.read_csv(\"csv/data_test_0.7.csv\")"
   ]
  },
  {
   "cell_type": "code",
   "execution_count": 13,
   "id": "ffd8cc2f",
   "metadata": {},
   "outputs": [
    {
     "data": {
      "text/html": [
       "<div>\n",
       "<style scoped>\n",
       "    .dataframe tbody tr th:only-of-type {\n",
       "        vertical-align: middle;\n",
       "    }\n",
       "\n",
       "    .dataframe tbody tr th {\n",
       "        vertical-align: top;\n",
       "    }\n",
       "\n",
       "    .dataframe thead th {\n",
       "        text-align: right;\n",
       "    }\n",
       "</style>\n",
       "<table border=\"1\" class=\"dataframe\">\n",
       "  <thead>\n",
       "    <tr style=\"text-align: right;\">\n",
       "      <th></th>\n",
       "      <th>year</th>\n",
       "      <th>month</th>\n",
       "      <th>day</th>\n",
       "      <th>stasiun</th>\n",
       "      <th>pm10</th>\n",
       "      <th>pm25</th>\n",
       "      <th>sulfur_dioksida</th>\n",
       "      <th>karbon_monoksida</th>\n",
       "      <th>ozon</th>\n",
       "      <th>nitrogen_dioksida</th>\n",
       "    </tr>\n",
       "  </thead>\n",
       "  <tbody>\n",
       "    <tr>\n",
       "      <th>0</th>\n",
       "      <td>2024</td>\n",
       "      <td>1</td>\n",
       "      <td>1</td>\n",
       "      <td>DKI5  Kebon Jeruk  Jakarta Barat</td>\n",
       "      <td>58.0</td>\n",
       "      <td>99.0</td>\n",
       "      <td>40.0</td>\n",
       "      <td>18.0</td>\n",
       "      <td>55.0</td>\n",
       "      <td>12.0</td>\n",
       "    </tr>\n",
       "    <tr>\n",
       "      <th>1</th>\n",
       "      <td>2024</td>\n",
       "      <td>1</td>\n",
       "      <td>2</td>\n",
       "      <td>DKI5  Kebon Jeruk  Jakarta Barat</td>\n",
       "      <td>40.0</td>\n",
       "      <td>68.0</td>\n",
       "      <td>40.0</td>\n",
       "      <td>9.0</td>\n",
       "      <td>65.0</td>\n",
       "      <td>11.0</td>\n",
       "    </tr>\n",
       "    <tr>\n",
       "      <th>2</th>\n",
       "      <td>2024</td>\n",
       "      <td>1</td>\n",
       "      <td>3</td>\n",
       "      <td>DKI5  Kebon Jeruk  Jakarta Barat</td>\n",
       "      <td>32.0</td>\n",
       "      <td>54.0</td>\n",
       "      <td>39.0</td>\n",
       "      <td>7.0</td>\n",
       "      <td>63.0</td>\n",
       "      <td>10.0</td>\n",
       "    </tr>\n",
       "    <tr>\n",
       "      <th>3</th>\n",
       "      <td>2024</td>\n",
       "      <td>1</td>\n",
       "      <td>4</td>\n",
       "      <td>DKI5  Kebon Jeruk  Jakarta Barat</td>\n",
       "      <td>38.0</td>\n",
       "      <td>59.0</td>\n",
       "      <td>46.0</td>\n",
       "      <td>10.0</td>\n",
       "      <td>55.0</td>\n",
       "      <td>12.0</td>\n",
       "    </tr>\n",
       "    <tr>\n",
       "      <th>4</th>\n",
       "      <td>2024</td>\n",
       "      <td>1</td>\n",
       "      <td>5</td>\n",
       "      <td>DKI5  Kebon Jeruk  Jakarta Barat</td>\n",
       "      <td>30.0</td>\n",
       "      <td>52.0</td>\n",
       "      <td>37.0</td>\n",
       "      <td>15.0</td>\n",
       "      <td>48.0</td>\n",
       "      <td>15.0</td>\n",
       "    </tr>\n",
       "  </tbody>\n",
       "</table>\n",
       "</div>"
      ],
      "text/plain": [
       "   year  month  day                           stasiun  pm10  pm25  \\\n",
       "0  2024      1    1  DKI5  Kebon Jeruk  Jakarta Barat  58.0  99.0   \n",
       "1  2024      1    2  DKI5  Kebon Jeruk  Jakarta Barat  40.0  68.0   \n",
       "2  2024      1    3  DKI5  Kebon Jeruk  Jakarta Barat  32.0  54.0   \n",
       "3  2024      1    4  DKI5  Kebon Jeruk  Jakarta Barat  38.0  59.0   \n",
       "4  2024      1    5  DKI5  Kebon Jeruk  Jakarta Barat  30.0  52.0   \n",
       "\n",
       "   sulfur_dioksida  karbon_monoksida  ozon  nitrogen_dioksida  \n",
       "0             40.0              18.0  55.0               12.0  \n",
       "1             40.0               9.0  65.0               11.0  \n",
       "2             39.0               7.0  63.0               10.0  \n",
       "3             46.0              10.0  55.0               12.0  \n",
       "4             37.0              15.0  48.0               15.0  "
      ]
     },
     "execution_count": 13,
     "metadata": {},
     "output_type": "execute_result"
    }
   ],
   "source": [
    "df_train70.head()"
   ]
  },
  {
   "cell_type": "code",
   "execution_count": 14,
   "id": "4ff0bee1",
   "metadata": {},
   "outputs": [
    {
     "data": {
      "text/html": [
       "<div>\n",
       "<style scoped>\n",
       "    .dataframe tbody tr th:only-of-type {\n",
       "        vertical-align: middle;\n",
       "    }\n",
       "\n",
       "    .dataframe tbody tr th {\n",
       "        vertical-align: top;\n",
       "    }\n",
       "\n",
       "    .dataframe thead th {\n",
       "        text-align: right;\n",
       "    }\n",
       "</style>\n",
       "<table border=\"1\" class=\"dataframe\">\n",
       "  <thead>\n",
       "    <tr style=\"text-align: right;\">\n",
       "      <th></th>\n",
       "      <th>year</th>\n",
       "      <th>month</th>\n",
       "      <th>day</th>\n",
       "      <th>stasiun</th>\n",
       "      <th>pm10</th>\n",
       "      <th>pm25</th>\n",
       "      <th>sulfur_dioksida</th>\n",
       "      <th>karbon_monoksida</th>\n",
       "      <th>ozon</th>\n",
       "      <th>nitrogen_dioksida</th>\n",
       "    </tr>\n",
       "  </thead>\n",
       "  <tbody>\n",
       "    <tr>\n",
       "      <th>0</th>\n",
       "      <td>2025</td>\n",
       "      <td>1</td>\n",
       "      <td>17</td>\n",
       "      <td>DKI5 Kebon Jeruk Jakarta Barat</td>\n",
       "      <td>11.0</td>\n",
       "      <td>54.0</td>\n",
       "      <td>26.0</td>\n",
       "      <td>4.0</td>\n",
       "      <td>50.0</td>\n",
       "      <td>5.0</td>\n",
       "    </tr>\n",
       "    <tr>\n",
       "      <th>1</th>\n",
       "      <td>2025</td>\n",
       "      <td>1</td>\n",
       "      <td>18</td>\n",
       "      <td>DKI5 Kebon Jeruk Jakarta Barat</td>\n",
       "      <td>7.0</td>\n",
       "      <td>25.0</td>\n",
       "      <td>11.0</td>\n",
       "      <td>3.0</td>\n",
       "      <td>55.0</td>\n",
       "      <td>5.0</td>\n",
       "    </tr>\n",
       "    <tr>\n",
       "      <th>2</th>\n",
       "      <td>2025</td>\n",
       "      <td>1</td>\n",
       "      <td>19</td>\n",
       "      <td>DKI5 Kebon Jeruk Jakarta Barat</td>\n",
       "      <td>11.0</td>\n",
       "      <td>37.0</td>\n",
       "      <td>24.0</td>\n",
       "      <td>3.0</td>\n",
       "      <td>49.0</td>\n",
       "      <td>3.0</td>\n",
       "    </tr>\n",
       "    <tr>\n",
       "      <th>3</th>\n",
       "      <td>2025</td>\n",
       "      <td>1</td>\n",
       "      <td>20</td>\n",
       "      <td>DKI5 Kebon Jeruk Jakarta Barat</td>\n",
       "      <td>10.0</td>\n",
       "      <td>43.0</td>\n",
       "      <td>18.0</td>\n",
       "      <td>3.0</td>\n",
       "      <td>52.0</td>\n",
       "      <td>5.0</td>\n",
       "    </tr>\n",
       "    <tr>\n",
       "      <th>4</th>\n",
       "      <td>2025</td>\n",
       "      <td>1</td>\n",
       "      <td>21</td>\n",
       "      <td>DKI5 Kebon Jeruk Jakarta Barat</td>\n",
       "      <td>15.0</td>\n",
       "      <td>54.0</td>\n",
       "      <td>3.0</td>\n",
       "      <td>12.0</td>\n",
       "      <td>38.0</td>\n",
       "      <td>13.0</td>\n",
       "    </tr>\n",
       "  </tbody>\n",
       "</table>\n",
       "</div>"
      ],
      "text/plain": [
       "   year  month  day                         stasiun  pm10  pm25  \\\n",
       "0  2025      1   17  DKI5 Kebon Jeruk Jakarta Barat  11.0  54.0   \n",
       "1  2025      1   18  DKI5 Kebon Jeruk Jakarta Barat   7.0  25.0   \n",
       "2  2025      1   19  DKI5 Kebon Jeruk Jakarta Barat  11.0  37.0   \n",
       "3  2025      1   20  DKI5 Kebon Jeruk Jakarta Barat  10.0  43.0   \n",
       "4  2025      1   21  DKI5 Kebon Jeruk Jakarta Barat  15.0  54.0   \n",
       "\n",
       "   sulfur_dioksida  karbon_monoksida  ozon  nitrogen_dioksida  \n",
       "0             26.0               4.0  50.0                5.0  \n",
       "1             11.0               3.0  55.0                5.0  \n",
       "2             24.0               3.0  49.0                3.0  \n",
       "3             18.0               3.0  52.0                5.0  \n",
       "4              3.0              12.0  38.0               13.0  "
      ]
     },
     "execution_count": 14,
     "metadata": {},
     "output_type": "execute_result"
    }
   ],
   "source": [
    "df_test70.head()"
   ]
  },
  {
   "cell_type": "markdown",
   "id": "1ece29b6",
   "metadata": {},
   "source": [
    "## Scenario 2: 80/20"
   ]
  },
  {
   "cell_type": "code",
   "execution_count": 12,
   "id": "104e4471",
   "metadata": {},
   "outputs": [],
   "source": [
    "df_train80= pd.read_csv('csv/data_train_0.8.csv')\n",
    "df_test80= pd.read_csv('csv/data_test_0.8.csv')"
   ]
  },
  {
   "cell_type": "markdown",
   "id": "c8354a18",
   "metadata": {},
   "source": [
    "# MODEL TRAINING"
   ]
  },
  {
   "cell_type": "markdown",
   "id": "274439b5",
   "metadata": {},
   "source": [
    "## Linear Regression"
   ]
  },
  {
   "cell_type": "markdown",
   "id": "b44d1271",
   "metadata": {},
   "source": [
    "### S1: 70/30"
   ]
  },
  {
   "cell_type": "markdown",
   "id": "d547a862",
   "metadata": {},
   "source": [
    "### S2: 80/20"
   ]
  },
  {
   "cell_type": "markdown",
   "id": "da2ea9ca",
   "metadata": {},
   "source": [
    "## Gradient Boosting"
   ]
  },
  {
   "cell_type": "markdown",
   "id": "c2a16512",
   "metadata": {},
   "source": [
    "### S1: 70/30"
   ]
  },
  {
   "cell_type": "markdown",
   "id": "efa8afc0",
   "metadata": {},
   "source": [
    "### S2: 80/20"
   ]
  },
  {
   "cell_type": "markdown",
   "id": "f949b583",
   "metadata": {},
   "source": [
    "## ADA Boost"
   ]
  },
  {
   "cell_type": "markdown",
   "id": "981ff75d",
   "metadata": {},
   "source": [
    "### S1: 70/30"
   ]
  },
  {
   "cell_type": "markdown",
   "id": "4779c0d6",
   "metadata": {},
   "source": [
    "### S2: 80/20"
   ]
  },
  {
   "cell_type": "markdown",
   "id": "5c0d2b80",
   "metadata": {},
   "source": [
    "## XG Boost"
   ]
  },
  {
   "cell_type": "markdown",
   "id": "6c0cb5ce",
   "metadata": {},
   "source": [
    "### S1: 70/30"
   ]
  },
  {
   "cell_type": "markdown",
   "id": "61561bed",
   "metadata": {},
   "source": [
    "### S2: 80/20"
   ]
  },
  {
   "cell_type": "markdown",
   "id": "a68389d0",
   "metadata": {},
   "source": [
    "# MODEL EVALUATION"
   ]
  },
  {
   "cell_type": "markdown",
   "id": "753901dd",
   "metadata": {},
   "source": [
    "## MAE"
   ]
  },
  {
   "cell_type": "markdown",
   "id": "4baffaca",
   "metadata": {},
   "source": [
    "## RMSE"
   ]
  },
  {
   "cell_type": "markdown",
   "id": "331bb863",
   "metadata": {},
   "source": [
    "## MAPE"
   ]
  },
  {
   "cell_type": "markdown",
   "id": "64afe101",
   "metadata": {},
   "source": [
    "## R-squared"
   ]
  },
  {
   "cell_type": "markdown",
   "id": "b30b638f",
   "metadata": {},
   "source": [
    "# Export Requirements.txt"
   ]
  },
  {
   "cell_type": "code",
   "execution_count": 3,
   "id": "de68c6c2",
   "metadata": {},
   "outputs": [],
   "source": [
    "import pkg_resources\n",
    "\n",
    "packages = [\n",
    "    'pandas',\n",
    "    'scikit-learn',\n",
    "]\n",
    "\n",
    "with open(\"lukas_requirements.txt\", \"w\") as f:\n",
    "    for pkg in packages:\n",
    "        try:\n",
    "            version = pkg_resources.get_distribution(pkg).version\n",
    "            f.write(f\"{pkg}=={version}\\n\")\n",
    "        except pkg_resources.DistributionNotFound:\n",
    "            print(f\"Package {pkg} not found in the environment.\")\n"
   ]
  }
 ],
 "metadata": {
  "kernelspec": {
   "display_name": "Python 3 (ipykernel)",
   "language": "python",
   "name": "python3"
  },
  "language_info": {
   "codemirror_mode": {
    "name": "ipython",
    "version": 3
   },
   "file_extension": ".py",
   "mimetype": "text/x-python",
   "name": "python",
   "nbconvert_exporter": "python",
   "pygments_lexer": "ipython3",
   "version": "3.10.16"
  }
 },
 "nbformat": 4,
 "nbformat_minor": 5
}

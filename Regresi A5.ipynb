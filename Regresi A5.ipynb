{
 "cells": [
  {
   "cell_type": "markdown",
   "id": "403e1511",
   "metadata": {},
   "source": [
    "# IMPORT LIBRARY"
   ]
  },
  {
   "cell_type": "code",
   "execution_count": 1,
   "id": "a57a3df8",
   "metadata": {},
   "outputs": [],
   "source": [
    "# Data Manipulation and Graph\n",
    "import pandas as pd\n",
    "import matplotlib.pyplot as plt\n",
    "\n",
    "# Modelling\n",
    "from sklearn.model_selection import TimeSeriesSplit, GridSearchCV\n",
    "from sklearn.ensemble import AdaBoostRegressor\n",
    "\n",
    "# Evaluation\n",
    "from sklearn.metrics import mean_absolute_error, root_mean_squared_error, mean_absolute_percentage_error, r2_score"
   ]
  },
  {
   "cell_type": "markdown",
   "id": "85e4f5b1",
   "metadata": {},
   "source": [
    "# DATA SPLITTING"
   ]
  },
  {
   "cell_type": "markdown",
   "id": "eac7fc5b",
   "metadata": {},
   "source": [
    "## Scenario 1: 70/30"
   ]
  },
  {
   "cell_type": "markdown",
   "id": "1ece29b6",
   "metadata": {},
   "source": [
    "## Scenario 2: 80/20"
   ]
  },
  {
   "cell_type": "markdown",
   "id": "c8354a18",
   "metadata": {},
   "source": [
    "# MODEL TRAINING"
   ]
  },
  {
   "cell_type": "markdown",
   "id": "274439b5",
   "metadata": {},
   "source": [
    "## Linear Regression"
   ]
  },
  {
   "cell_type": "markdown",
   "id": "b44d1271",
   "metadata": {},
   "source": [
    "### S1: 70/30"
   ]
  },
  {
   "cell_type": "markdown",
   "id": "d547a862",
   "metadata": {},
   "source": [
    "### S2: 80/20"
   ]
  },
  {
   "cell_type": "markdown",
   "id": "da2ea9ca",
   "metadata": {},
   "source": [
    "## Gradient Boosting"
   ]
  },
  {
   "cell_type": "markdown",
   "id": "c2a16512",
   "metadata": {},
   "source": [
    "### S1: 70/30"
   ]
  },
  {
   "cell_type": "markdown",
   "id": "efa8afc0",
   "metadata": {},
   "source": [
    "### S2: 80/20"
   ]
  },
  {
   "cell_type": "markdown",
   "id": "f949b583",
   "metadata": {},
   "source": [
    "## ADA Boost"
   ]
  },
  {
   "cell_type": "markdown",
   "id": "981ff75d",
   "metadata": {},
   "source": [
    "### S1: 70/30"
   ]
  },
  {
   "cell_type": "markdown",
   "id": "4779c0d6",
   "metadata": {},
   "source": [
    "### S2: 80/20"
   ]
  },
  {
   "cell_type": "markdown",
   "id": "5c0d2b80",
   "metadata": {},
   "source": [
    "## XG Boost"
   ]
  },
  {
   "cell_type": "markdown",
   "id": "6c0cb5ce",
   "metadata": {},
   "source": [
    "### S1: 70/30"
   ]
  },
  {
   "cell_type": "markdown",
   "id": "61561bed",
   "metadata": {},
   "source": [
    "### S2: 80/20"
   ]
  },
  {
   "cell_type": "markdown",
   "id": "a68389d0",
   "metadata": {},
   "source": [
    "# MODEL EVALUATION"
   ]
  },
  {
   "cell_type": "markdown",
   "id": "753901dd",
   "metadata": {},
   "source": [
    "## MAE"
   ]
  },
  {
   "cell_type": "markdown",
   "id": "4baffaca",
   "metadata": {},
   "source": [
    "## RMSE"
   ]
  },
  {
   "cell_type": "markdown",
   "id": "331bb863",
   "metadata": {},
   "source": [
    "## MAPE"
   ]
  },
  {
   "cell_type": "markdown",
   "id": "64afe101",
   "metadata": {},
   "source": [
    "## R-squared"
   ]
  },
  {
   "cell_type": "markdown",
   "id": "b30b638f",
   "metadata": {},
   "source": [
    "Export Requirements.txt"
   ]
  },
  {
   "cell_type": "code",
   "execution_count": 3,
   "id": "de68c6c2",
   "metadata": {},
   "outputs": [],
   "source": [
    "import pkg_resources\n",
    "\n",
    "packages = [\n",
    "    'pandas',\n",
    "    'scikit-learn',\n",
    "]\n",
    "\n",
    "with open(\"lukas_requirements.txt\", \"w\") as f:\n",
    "    for pkg in packages:\n",
    "        try:\n",
    "            version = pkg_resources.get_distribution(pkg).version\n",
    "            f.write(f\"{pkg}=={version}\\n\")\n",
    "        except pkg_resources.DistributionNotFound:\n",
    "            print(f\"Package {pkg} not found in the environment.\")\n"
   ]
  }
 ],
 "metadata": {
  "kernelspec": {
   "display_name": "Python 3 (ipykernel)",
   "language": "python",
   "name": "python3"
  },
  "language_info": {
   "codemirror_mode": {
    "name": "ipython",
    "version": 3
   },
   "file_extension": ".py",
   "mimetype": "text/x-python",
   "name": "python",
   "nbconvert_exporter": "python",
   "pygments_lexer": "ipython3",
   "version": "3.10.16"
  }
 },
 "nbformat": 4,
 "nbformat_minor": 5
}

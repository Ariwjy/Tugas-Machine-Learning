{
 "cells": [
  {
   "cell_type": "markdown",
   "id": "403e1511",
   "metadata": {},
   "source": [
    "# IMPORT LIBRARY"
   ]
  },
  {
   "cell_type": "markdown",
   "id": "85e4f5b1",
   "metadata": {},
   "source": [
    "# DATA SPLITTING"
   ]
  },
  {
   "cell_type": "markdown",
   "id": "c8354a18",
   "metadata": {},
   "source": [
    "# MODEL TRAINING"
   ]
  },
  {
   "cell_type": "markdown",
   "id": "a68389d0",
   "metadata": {},
   "source": [
    "# MODEL EVALUATION"
   ]
  }
 ],
 "metadata": {
  "language_info": {
   "name": "python"
  }
 },
 "nbformat": 4,
 "nbformat_minor": 5
}
